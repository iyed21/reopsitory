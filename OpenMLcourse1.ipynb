{
  "nbformat": 4,
  "nbformat_minor": 0,
  "metadata": {
    "colab": {
      "name": "Untitled1.ipynb",
      "provenance": [],
      "collapsed_sections": [],
      "authorship_tag": "ABX9TyMOS0soyYWiEbbHfoVJNry0",
      "include_colab_link": true
    },
    "kernelspec": {
      "name": "python3",
      "display_name": "Python 3"
    }
  },
  "cells": [
    {
      "cell_type": "markdown",
      "metadata": {
        "id": "view-in-github",
        "colab_type": "text"
      },
      "source": [
        "<a href=\"https://colab.research.google.com/github/IyedBaouab/reopsitory/blob/gh-pages/OpenMLcourse1.ipynb\" target=\"_parent\"><img src=\"https://colab.research.google.com/assets/colab-badge.svg\" alt=\"Open In Colab\"/></a>"
      ]
    },
    {
      "cell_type": "code",
      "metadata": {
        "id": "wcN2qIdCwZag"
      },
      "source": [
        "import pandas as pd"
      ],
      "execution_count": 7,
      "outputs": []
    },
    {
      "cell_type": "code",
      "metadata": {
        "colab": {
          "base_uri": "https://localhost:8080/",
          "height": 394
        },
        "id": "mSSu-3nIwiLR",
        "outputId": "7648d182-d7fb-42d6-a2d7-37d668002989"
      },
      "source": [
        "data = pd.read_csv('adult.data.csv')\r\n",
        "data.head()"
      ],
      "execution_count": 6,
      "outputs": [
        {
          "output_type": "execute_result",
          "data": {
            "text/html": [
              "<div>\n",
              "<style scoped>\n",
              "    .dataframe tbody tr th:only-of-type {\n",
              "        vertical-align: middle;\n",
              "    }\n",
              "\n",
              "    .dataframe tbody tr th {\n",
              "        vertical-align: top;\n",
              "    }\n",
              "\n",
              "    .dataframe thead th {\n",
              "        text-align: right;\n",
              "    }\n",
              "</style>\n",
              "<table border=\"1\" class=\"dataframe\">\n",
              "  <thead>\n",
              "    <tr style=\"text-align: right;\">\n",
              "      <th></th>\n",
              "      <th>age</th>\n",
              "      <th>workclass</th>\n",
              "      <th>fnlwgt</th>\n",
              "      <th>education</th>\n",
              "      <th>education-num</th>\n",
              "      <th>marital-status</th>\n",
              "      <th>occupation</th>\n",
              "      <th>relationship</th>\n",
              "      <th>race</th>\n",
              "      <th>sex</th>\n",
              "      <th>capital-gain</th>\n",
              "      <th>capital-loss</th>\n",
              "      <th>hours-per-week</th>\n",
              "      <th>native-country</th>\n",
              "      <th>salary</th>\n",
              "    </tr>\n",
              "  </thead>\n",
              "  <tbody>\n",
              "    <tr>\n",
              "      <th>0</th>\n",
              "      <td>39</td>\n",
              "      <td>State-gov</td>\n",
              "      <td>77516</td>\n",
              "      <td>Bachelors</td>\n",
              "      <td>13</td>\n",
              "      <td>Never-married</td>\n",
              "      <td>Adm-clerical</td>\n",
              "      <td>Not-in-family</td>\n",
              "      <td>White</td>\n",
              "      <td>Male</td>\n",
              "      <td>2174</td>\n",
              "      <td>0</td>\n",
              "      <td>40</td>\n",
              "      <td>United-States</td>\n",
              "      <td>&lt;=50K</td>\n",
              "    </tr>\n",
              "    <tr>\n",
              "      <th>1</th>\n",
              "      <td>50</td>\n",
              "      <td>Self-emp-not-inc</td>\n",
              "      <td>83311</td>\n",
              "      <td>Bachelors</td>\n",
              "      <td>13</td>\n",
              "      <td>Married-civ-spouse</td>\n",
              "      <td>Exec-managerial</td>\n",
              "      <td>Husband</td>\n",
              "      <td>White</td>\n",
              "      <td>Male</td>\n",
              "      <td>0</td>\n",
              "      <td>0</td>\n",
              "      <td>13</td>\n",
              "      <td>United-States</td>\n",
              "      <td>&lt;=50K</td>\n",
              "    </tr>\n",
              "    <tr>\n",
              "      <th>2</th>\n",
              "      <td>38</td>\n",
              "      <td>Private</td>\n",
              "      <td>215646</td>\n",
              "      <td>HS-grad</td>\n",
              "      <td>9</td>\n",
              "      <td>Divorced</td>\n",
              "      <td>Handlers-cleaners</td>\n",
              "      <td>Not-in-family</td>\n",
              "      <td>White</td>\n",
              "      <td>Male</td>\n",
              "      <td>0</td>\n",
              "      <td>0</td>\n",
              "      <td>40</td>\n",
              "      <td>United-States</td>\n",
              "      <td>&lt;=50K</td>\n",
              "    </tr>\n",
              "    <tr>\n",
              "      <th>3</th>\n",
              "      <td>53</td>\n",
              "      <td>Private</td>\n",
              "      <td>234721</td>\n",
              "      <td>11th</td>\n",
              "      <td>7</td>\n",
              "      <td>Married-civ-spouse</td>\n",
              "      <td>Handlers-cleaners</td>\n",
              "      <td>Husband</td>\n",
              "      <td>Black</td>\n",
              "      <td>Male</td>\n",
              "      <td>0</td>\n",
              "      <td>0</td>\n",
              "      <td>40</td>\n",
              "      <td>United-States</td>\n",
              "      <td>&lt;=50K</td>\n",
              "    </tr>\n",
              "    <tr>\n",
              "      <th>4</th>\n",
              "      <td>28</td>\n",
              "      <td>Private</td>\n",
              "      <td>338409</td>\n",
              "      <td>Bachelors</td>\n",
              "      <td>13</td>\n",
              "      <td>Married-civ-spouse</td>\n",
              "      <td>Prof-specialty</td>\n",
              "      <td>Wife</td>\n",
              "      <td>Black</td>\n",
              "      <td>Female</td>\n",
              "      <td>0</td>\n",
              "      <td>0</td>\n",
              "      <td>40</td>\n",
              "      <td>Cuba</td>\n",
              "      <td>&lt;=50K</td>\n",
              "    </tr>\n",
              "  </tbody>\n",
              "</table>\n",
              "</div>"
            ],
            "text/plain": [
              "   age         workclass  fnlwgt  ... hours-per-week  native-country salary\n",
              "0   39         State-gov   77516  ...             40   United-States  <=50K\n",
              "1   50  Self-emp-not-inc   83311  ...             13   United-States  <=50K\n",
              "2   38           Private  215646  ...             40   United-States  <=50K\n",
              "3   53           Private  234721  ...             40   United-States  <=50K\n",
              "4   28           Private  338409  ...             40            Cuba  <=50K\n",
              "\n",
              "[5 rows x 15 columns]"
            ]
          },
          "metadata": {
            "tags": []
          },
          "execution_count": 6
        }
      ]
    },
    {
      "cell_type": "code",
      "metadata": {
        "colab": {
          "base_uri": "https://localhost:8080/"
        },
        "id": "umKSTbbQxA_x",
        "outputId": "d9f913a5-a824-4df9-b216-5e6fe53ba10e"
      },
      "source": [
        "data['sex'].value_counts()"
      ],
      "execution_count": 8,
      "outputs": [
        {
          "output_type": "execute_result",
          "data": {
            "text/plain": [
              "Male      21790\n",
              "Female    10771\n",
              "Name: sex, dtype: int64"
            ]
          },
          "metadata": {
            "tags": []
          },
          "execution_count": 8
        }
      ]
    },
    {
      "cell_type": "code",
      "metadata": {
        "colab": {
          "base_uri": "https://localhost:8080/"
        },
        "id": "-vpFc_61xhKR",
        "outputId": "b5f2a179-b83c-41f6-c7f7-94359372d014"
      },
      "source": [
        "data.loc[data['sex']=='Female','age'].mean()"
      ],
      "execution_count": 9,
      "outputs": [
        {
          "output_type": "execute_result",
          "data": {
            "text/plain": [
              "36.85823043357163"
            ]
          },
          "metadata": {
            "tags": []
          },
          "execution_count": 9
        }
      ]
    },
    {
      "cell_type": "code",
      "metadata": {
        "colab": {
          "base_uri": "https://localhost:8080/"
        },
        "id": "w9bZO04HyVnZ",
        "outputId": "afe2d574-49ba-4f6a-cf14-685bf38b7de4"
      },
      "source": [
        "100*((data['native-country'] == 'Germany').sum())/data.shape[0]\r\n"
      ],
      "execution_count": 11,
      "outputs": [
        {
          "output_type": "execute_result",
          "data": {
            "text/plain": [
              "0.42074874850281013"
            ]
          },
          "metadata": {
            "tags": []
          },
          "execution_count": 11
        }
      ]
    },
    {
      "cell_type": "code",
      "metadata": {
        "colab": {
          "base_uri": "https://localhost:8080/"
        },
        "id": "g83tCKwr-ENi",
        "outputId": "c6d7e63e-17b7-41ef-8a1e-1ce7d68cee73"
      },
      "source": [
        "ages1 = data.loc[data['salary'] == '>50K', 'age']\r\n",
        "ages2 = data.loc[data['salary'] == '<=50K', 'age']\r\n",
        "print(\"The average age of the rich: {0} +- {1} years, poor - {2} +- {3} years.\".format(\r\n",
        "    round(ages1.mean()), round(ages1.std(), 1),\r\n",
        "    round(ages2.mean()), round(ages2.std(), 1)))"
      ],
      "execution_count": 12,
      "outputs": [
        {
          "output_type": "stream",
          "text": [
            "The average age of the rich: 44 +- 10.5 years, poor - 37 +- 14.0 years.\n"
          ],
          "name": "stdout"
        }
      ]
    },
    {
      "cell_type": "code",
      "metadata": {
        "colab": {
          "base_uri": "https://localhost:8080/"
        },
        "id": "eKinHwEpEHc6",
        "outputId": "4423638d-d812-48c6-b02c-a31ddfca7311"
      },
      "source": [
        "data.loc[data['salary'] == '>50K', 'education']\r\n"
      ],
      "execution_count": 13,
      "outputs": [
        {
          "output_type": "execute_result",
          "data": {
            "text/plain": [
              "7             HS-grad\n",
              "8             Masters\n",
              "9           Bachelors\n",
              "10       Some-college\n",
              "11          Bachelors\n",
              "             ...     \n",
              "32539       Doctorate\n",
              "32545      Assoc-acdm\n",
              "32554         Masters\n",
              "32557         HS-grad\n",
              "32560         HS-grad\n",
              "Name: education, Length: 7841, dtype: object"
            ]
          },
          "metadata": {
            "tags": []
          },
          "execution_count": 13
        }
      ]
    },
    {
      "cell_type": "code",
      "metadata": {
        "id": "NBHOSHy-Dchj",
        "colab": {
          "base_uri": "https://localhost:8080/"
        },
        "outputId": "c39b3e3e-4fb2-4a4a-a9e6-fb5e7ee75303"
      },
      "source": [
        "for (race, sex), sub_df in data.groupby(['race', 'sex']):\r\n",
        "    print(\"Race: {0}, sex: {1}\".format(race, sex))\r\n",
        "    print(sub_df['age'].describe())"
      ],
      "execution_count": 14,
      "outputs": [
        {
          "output_type": "stream",
          "text": [
            "Race: Amer-Indian-Eskimo, sex: Female\n",
            "count    119.000000\n",
            "mean      37.117647\n",
            "std       13.114991\n",
            "min       17.000000\n",
            "25%       27.000000\n",
            "50%       36.000000\n",
            "75%       46.000000\n",
            "max       80.000000\n",
            "Name: age, dtype: float64\n",
            "Race: Amer-Indian-Eskimo, sex: Male\n",
            "count    192.000000\n",
            "mean      37.208333\n",
            "std       12.049563\n",
            "min       17.000000\n",
            "25%       28.000000\n",
            "50%       35.000000\n",
            "75%       45.000000\n",
            "max       82.000000\n",
            "Name: age, dtype: float64\n",
            "Race: Asian-Pac-Islander, sex: Female\n",
            "count    346.000000\n",
            "mean      35.089595\n",
            "std       12.300845\n",
            "min       17.000000\n",
            "25%       25.000000\n",
            "50%       33.000000\n",
            "75%       43.750000\n",
            "max       75.000000\n",
            "Name: age, dtype: float64\n",
            "Race: Asian-Pac-Islander, sex: Male\n",
            "count    693.000000\n",
            "mean      39.073593\n",
            "std       12.883944\n",
            "min       18.000000\n",
            "25%       29.000000\n",
            "50%       37.000000\n",
            "75%       46.000000\n",
            "max       90.000000\n",
            "Name: age, dtype: float64\n",
            "Race: Black, sex: Female\n",
            "count    1555.000000\n",
            "mean       37.854019\n",
            "std        12.637197\n",
            "min        17.000000\n",
            "25%        28.000000\n",
            "50%        37.000000\n",
            "75%        46.000000\n",
            "max        90.000000\n",
            "Name: age, dtype: float64\n",
            "Race: Black, sex: Male\n",
            "count    1569.000000\n",
            "mean       37.682600\n",
            "std        12.882612\n",
            "min        17.000000\n",
            "25%        27.000000\n",
            "50%        36.000000\n",
            "75%        46.000000\n",
            "max        90.000000\n",
            "Name: age, dtype: float64\n",
            "Race: Other, sex: Female\n",
            "count    109.000000\n",
            "mean      31.678899\n",
            "std       11.631599\n",
            "min       17.000000\n",
            "25%       23.000000\n",
            "50%       29.000000\n",
            "75%       39.000000\n",
            "max       74.000000\n",
            "Name: age, dtype: float64\n",
            "Race: Other, sex: Male\n",
            "count    162.000000\n",
            "mean      34.654321\n",
            "std       11.355531\n",
            "min       17.000000\n",
            "25%       26.000000\n",
            "50%       32.000000\n",
            "75%       42.000000\n",
            "max       77.000000\n",
            "Name: age, dtype: float64\n",
            "Race: White, sex: Female\n",
            "count    8642.000000\n",
            "mean       36.811618\n",
            "std        14.329093\n",
            "min        17.000000\n",
            "25%        25.000000\n",
            "50%        35.000000\n",
            "75%        46.000000\n",
            "max        90.000000\n",
            "Name: age, dtype: float64\n",
            "Race: White, sex: Male\n",
            "count    19174.000000\n",
            "mean        39.652498\n",
            "std         13.436029\n",
            "min         17.000000\n",
            "25%         29.000000\n",
            "50%         38.000000\n",
            "75%         49.000000\n",
            "max         90.000000\n",
            "Name: age, dtype: float64\n"
          ],
          "name": "stdout"
        }
      ]
    },
    {
      "cell_type": "code",
      "metadata": {
        "colab": {
          "base_uri": "https://localhost:8080/"
        },
        "id": "m5v4WhUvyEVq",
        "outputId": "d98e8d8b-b79d-469d-e480-1644cbafd096"
      },
      "source": [
        "max_load = data['hours-per-week'].max()\r\n",
        "print(\"Max time - {0} hours./week.\".format(max_load))\r\n",
        "\r\n",
        "num_workaholics = data[data['hours-per-week'] == max_load].shape[0]\r\n",
        "print(\"Total number of such hard workers {0}\".format(num_workaholics))\r\n",
        "\r\n",
        "rich_share = float(data[(data['hours-per-week'] == max_load)\r\n",
        "                 & (data['salary'] == '>50K')].shape[0]) / num_workaholics\r\n",
        "print(\"Percentage of rich among them {0}%\".format(int(100 * rich_share)))"
      ],
      "execution_count": 16,
      "outputs": [
        {
          "output_type": "stream",
          "text": [
            "Max time - 99 hours./week.\n",
            "Total number of such hard workers 85\n",
            "Percentage of rich among them 29%\n"
          ],
          "name": "stdout"
        }
      ]
    },
    {
      "cell_type": "code",
      "metadata": {
        "colab": {
          "base_uri": "https://localhost:8080/"
        },
        "id": "LEtO7p93M_Aq",
        "outputId": "61bfc23b-b3fa-4331-a9e7-35e9fbe3b063"
      },
      "source": [
        "for (country,salary), sub_df in data.groupby(['native-country','salary']):\r\n",
        "  print(country, salary, sub_df['hours-per-week'].mean());"
      ],
      "execution_count": 19,
      "outputs": [
        {
          "output_type": "stream",
          "text": [
            "? <=50K 40.16475972540046\n",
            "? >50K 45.54794520547945\n",
            "Cambodia <=50K 41.416666666666664\n",
            "Cambodia >50K 40.0\n",
            "Canada <=50K 37.91463414634146\n",
            "Canada >50K 45.64102564102564\n",
            "China <=50K 37.38181818181818\n",
            "China >50K 38.9\n",
            "Columbia <=50K 38.68421052631579\n",
            "Columbia >50K 50.0\n",
            "Cuba <=50K 37.98571428571429\n",
            "Cuba >50K 42.44\n",
            "Dominican-Republic <=50K 42.338235294117645\n",
            "Dominican-Republic >50K 47.0\n",
            "Ecuador <=50K 38.041666666666664\n",
            "Ecuador >50K 48.75\n",
            "El-Salvador <=50K 36.03092783505155\n",
            "El-Salvador >50K 45.0\n",
            "England <=50K 40.483333333333334\n",
            "England >50K 44.53333333333333\n",
            "France <=50K 41.05882352941177\n",
            "France >50K 50.75\n",
            "Germany <=50K 39.13978494623656\n",
            "Germany >50K 44.97727272727273\n",
            "Greece <=50K 41.80952380952381\n",
            "Greece >50K 50.625\n",
            "Guatemala <=50K 39.36065573770492\n",
            "Guatemala >50K 36.666666666666664\n",
            "Haiti <=50K 36.325\n",
            "Haiti >50K 42.75\n",
            "Holand-Netherlands <=50K 40.0\n",
            "Honduras <=50K 34.333333333333336\n",
            "Honduras >50K 60.0\n",
            "Hong <=50K 39.142857142857146\n",
            "Hong >50K 45.0\n",
            "Hungary <=50K 31.3\n",
            "Hungary >50K 50.0\n",
            "India <=50K 38.233333333333334\n",
            "India >50K 46.475\n",
            "Iran <=50K 41.44\n",
            "Iran >50K 47.5\n",
            "Ireland <=50K 40.94736842105263\n",
            "Ireland >50K 48.0\n",
            "Italy <=50K 39.625\n",
            "Italy >50K 45.4\n",
            "Jamaica <=50K 38.23943661971831\n",
            "Jamaica >50K 41.1\n",
            "Japan <=50K 41.0\n",
            "Japan >50K 47.958333333333336\n",
            "Laos <=50K 40.375\n",
            "Laos >50K 40.0\n",
            "Mexico <=50K 40.00327868852459\n",
            "Mexico >50K 46.57575757575758\n",
            "Nicaragua <=50K 36.09375\n",
            "Nicaragua >50K 37.5\n",
            "Outlying-US(Guam-USVI-etc) <=50K 41.857142857142854\n",
            "Peru <=50K 35.06896551724138\n",
            "Peru >50K 40.0\n",
            "Philippines <=50K 38.065693430656935\n",
            "Philippines >50K 43.032786885245905\n",
            "Poland <=50K 38.166666666666664\n",
            "Poland >50K 39.0\n",
            "Portugal <=50K 41.93939393939394\n",
            "Portugal >50K 41.5\n",
            "Puerto-Rico <=50K 38.470588235294116\n",
            "Puerto-Rico >50K 39.416666666666664\n",
            "Scotland <=50K 39.44444444444444\n",
            "Scotland >50K 46.666666666666664\n",
            "South <=50K 40.15625\n",
            "South >50K 51.4375\n",
            "Taiwan <=50K 33.774193548387096\n",
            "Taiwan >50K 46.8\n",
            "Thailand <=50K 42.86666666666667\n",
            "Thailand >50K 58.333333333333336\n",
            "Trinadad&Tobago <=50K 37.05882352941177\n",
            "Trinadad&Tobago >50K 40.0\n",
            "United-States <=50K 38.79912723305605\n",
            "United-States >50K 45.50536884674383\n",
            "Vietnam <=50K 37.193548387096776\n",
            "Vietnam >50K 39.2\n",
            "Yugoslavia <=50K 41.6\n",
            "Yugoslavia >50K 49.5\n"
          ],
          "name": "stdout"
        }
      ]
    }
  ]
}